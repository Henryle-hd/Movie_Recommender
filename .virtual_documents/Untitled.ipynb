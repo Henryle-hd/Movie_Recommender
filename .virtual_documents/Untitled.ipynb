





import pandas as pd


movies=pd.read_csv('data/movies.csv')
movies


movies.describe()


movies.info()


movies.isnull().sum()


movies.columns





movies=movies[['id','title','genre','overview']]
movies


movies['tags']=movies['overview']+movies['genre']
print(movies['tags'][1],end='\n\n')
print(movies['overview'][1])


movies


new_data=movies.drop(['genre','overview'],axis=1)
new_data





from sklearn.feature_extraction.text import CountVectorizer
cv=CountVectorizer(max_features=10000,stop_words='english')


vector=cv.fit_transform(new_data['tags'].values.astype('U')).toarray()


vector


vector.shape


from sklearn.metrics.pairwise import cosine_similarity
similarity=cosine_similarity(vector)


similarity


new_data[new_data['title']=="The Godfather"].index[0]


distance=sorted(list(enumerate(similarity[2])), reverse=True, key=lambda vector:vector[1])
for i,j in distance[0:5]:
    print(new_data['title'][i])


def recommand(moveis:str):
    index=new_data[new_data['title']==moveis].index[0]
    distance=sorted(list(enumerate(similarity[index])), reverse=True, key=lambda vector:vector[1])
    for i,j in distance[0:5]:
        print(new_data['title'][i])


recommand('Iron Man')


import pickle


pickle.dump(new_data,open('movies_list.pkl','wb'))
pickle.dump(similarity,open('similarity.pkl','wb'))


t=pickle.load(open('movies_list.pkl','rb'))
t['title'].values
